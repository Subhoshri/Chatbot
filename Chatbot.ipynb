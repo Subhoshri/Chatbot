{
 "cells": [
  {
   "cell_type": "code",
   "execution_count": 2,
   "metadata": {},
   "outputs": [],
   "source": [
    "#Importing Libraries\n",
    "import nltk\n",
    "from nltk.stem import WordNetLemmatizer\n",
    "from PIL import Image as pil\n",
    "import tflearn\n",
    "import tensorflow as tf\n",
    "tf.compat.v1.disable_v2_behavior\n",
    "import numpy as np\n",
    "import random\n",
    "import json\n",
    "import pickle\n",
    "from flask import Flask, request, jsonify\n",
    "\n",
    "stemmer = WordNetLemmatizer()"
   ]
  },
  {
   "cell_type": "code",
   "execution_count": 3,
   "metadata": {},
   "outputs": [],
   "source": [
    "with open('intents.json') as data:\n",
    "    intents = json.load(data)"
   ]
  },
  {
   "cell_type": "code",
   "execution_count": 4,
   "metadata": {},
   "outputs": [
    {
     "name": "stdout",
     "output_type": "stream",
     "text": [
      "Documents:  34\n",
      "Classes:  8 ['goodbye', 'greeting', 'hours', 'opentoday', 'payments', 'substitute', 'thanks', 'today']\n",
      "61 Stemmed Words [\"'s\", 'accept', 'alternative', 'any', 'anyone', 'are', 'baking', 'butter', 'bye', 'can', 'card', 'care', 'cash', 'cooky', 'credit', 'curd', 'day', 'do', 'egg', 'flour', 'for', 'good', 'goodbye', 'great', 'greeting', 'have', 'hello', 'helpful', 'hi', 'hour', 'how', 'i', 'in', 'instead', 'is', 'later', 'leaving', 'mastercard', 'morning', \"n't\", 'now', 'of', 'only', 'open', 'replace', 'see', 'substitute', 'sugar', 'take', 'thank', 'thanks', 'that', 'there', 'to', 'today', 'use', 'what', 'when', 'with', 'you', 'your']\n"
     ]
    }
   ],
   "source": [
    "words = []\n",
    "classes = []\n",
    "documents = []\n",
    "ignore_words = ['?','.','!',',']\n",
    "for intent in intents['intents']:\n",
    "    for pattern in intent['patterns']:\n",
    "        #Tokenizing each word\n",
    "        w = nltk.word_tokenize(pattern,language=\"english\", preserve_line=False)\n",
    "        words.extend(w)\n",
    "        documents.append((w, intent['tag']))\n",
    "        if intent['tag'] not in classes:\n",
    "            classes.append(intent['tag'])\n",
    "\n",
    "words = sorted(set([stemmer.lemmatize(w.lower()) for w in words if w not in ignore_words]))\n",
    "classes = sorted(list(set(classes)))\n",
    "\n",
    "\n",
    "print('Documents: ',len(documents))\n",
    "print('Classes: ',len(classes),classes)\n",
    "print(len(words),\"Stemmed Words\",words)"
   ]
  },
  {
   "cell_type": "code",
   "execution_count": 5,
   "metadata": {},
   "outputs": [],
   "source": [
    "#Creating Training data\n",
    "training = []\n",
    "output = []\n",
    "output_empty = [0] * len(classes)\n",
    "\n",
    "for doc in documents:\n",
    "    bag = []\n",
    "    pattern_words = doc[0]\n",
    "    pattern_words = [stemmer.lemmatize(word.lower()) for word in pattern_words]\n",
    "    for w in words:\n",
    "        bag.append(1) if w in pattern_words else bag.append(0)\n",
    "\n",
    "    output_row = list(output_empty)\n",
    "    output_row[classes.index(doc[1])] = 1\n",
    "    training.append([bag, output_row])\n",
    "\n",
    "#Shuffling features and turning into array\n",
    "random.shuffle(training)\n",
    "training = np.array(training, dtype=object)\n",
    "train_x = [entry[0] for entry in training]\n",
    "train_y = [entry[1] for entry in training]\n",
    "\n",
    "train_x = np.array(train_x, dtype=np.float32)\n",
    "train_y = np.array(train_y, dtype=np.float32)\n",
    "\n",
    "#print(train_x[0])\n",
    "#print(train_y[0])"
   ]
  },
  {
   "cell_type": "code",
   "execution_count": 6,
   "metadata": {},
   "outputs": [
    {
     "name": "stdout",
     "output_type": "stream",
     "text": [
      "Training Step: 2999  | total loss: \u001b[1m\u001b[32m0.05523\u001b[0m\u001b[0m\n",
      "| Adam | epoch: 1000 | loss: 0.05523 - acc: 0.9999 -- iter: 32/34\n",
      "Training Step: 3000  | total loss: \u001b[1m\u001b[32m0.05492\u001b[0m\u001b[0m\n",
      "| Adam | epoch: 1000 | loss: 0.05492 - acc: 0.9999 -- iter: 34/34\n",
      "--\n",
      "INFO:tensorflow:c:\\Users\\Diya\\OneDrive\\Desktop\\Programs\\Chatbot\\Chatbot\\model.tflearn is not in all_model_checkpoint_paths. Manually adding it.\n"
     ]
    }
   ],
   "source": [
    "# reset underlying graph data\n",
    "tf.compat.v1.reset_default_graph()\n",
    "\n",
    "# Build neural network\n",
    "net = tflearn.input_data(shape=[None, len(train_x[0])])\n",
    "net = tflearn.fully_connected(net, 8)\n",
    "net = tflearn.fully_connected(net, 8)\n",
    "net = tflearn.fully_connected(net, len(train_y[0]), activation='softmax')\n",
    "net = tflearn.regression(net)\n",
    "\n",
    "# Define model and setup tensorboard\n",
    "model = tflearn.DNN(net, tensorboard_dir='tflearn_logs')\n",
    "model.fit(train_x, train_y, n_epoch=1000, batch_size=16, show_metric=True)\n",
    "\n",
    "model.save('model.tflearn')"
   ]
  },
  {
   "cell_type": "code",
   "execution_count": 7,
   "metadata": {},
   "outputs": [],
   "source": [
    "#Pickling data\n",
    "pickle.dump( {'words':words, 'classes':classes, 'train_x':train_x, 'train_y':train_y}, open( \"training_data\", \"wb\" ) )"
   ]
  },
  {
   "cell_type": "code",
   "execution_count": 8,
   "metadata": {},
   "outputs": [],
   "source": [
    "#Importing chatbot intents file\n",
    "with open('intents.json') as json_data:\n",
    "    intents = json.load(json_data)\n",
    "    \n",
    "#Unpickling data\n",
    "data = pickle.load(open('training_data', 'rb'))\n",
    "words = data['words']\n",
    "classes = data['classes']\n",
    "\n",
    "train_x = data['train_x']\n",
    "train_y = data['train_y']"
   ]
  },
  {
   "cell_type": "code",
   "execution_count": 9,
   "metadata": {},
   "outputs": [
    {
     "name": "stdout",
     "output_type": "stream",
     "text": [
      "INFO:tensorflow:Restoring parameters from c:\\Users\\Diya\\OneDrive\\Desktop\\Programs\\Chatbot\\Chatbot\\model.tflearn\n",
      "Model loaded successfully!\n"
     ]
    }
   ],
   "source": [
    "tf.compat.v1.reset_default_graph()\n",
    "\n",
    "#Building neural network\n",
    "net = tflearn.input_data(shape=[None, len(train_x[0])])\n",
    "net = tflearn.fully_connected(net, 8)\n",
    "net = tflearn.fully_connected(net, 8)\n",
    "net = tflearn.fully_connected(net, len(train_y[0]), activation='softmax')\n",
    "net = tflearn.regression(net)\n",
    "\n",
    "#Defining model and setting up tensorboard\n",
    "model = tflearn.DNN(net, tensorboard_dir='tflearn_logs')\n",
    "try:\n",
    "    model.load('model.tflearn')\n",
    "    print(\"Model loaded successfully!\")\n",
    "except Exception as e:\n",
    "    print(f\"Error loading the model: {e}\")"
   ]
  },
  {
   "cell_type": "code",
   "execution_count": 10,
   "metadata": {},
   "outputs": [],
   "source": [
    "def clean_up_sentence(sentence):\n",
    "    sentence_words = nltk.word_tokenize(sentence)\n",
    "    sentence_words = [stemmer.stem(word.lower()) for word in sentence_words]\n",
    "    return sentence_words\n",
    "\n",
    "def bag_of_words(sentence, words):\n",
    "    sentence_words = clean_up_sentence(sentence)\n",
    "    bag = [0] * len(words)\n",
    "    for s in sentence_words:\n",
    "        for i, word in enumerate(words):\n",
    "            if word == s:\n",
    "                bag[i] = 1\n",
    "    return np.array(bag)\n",
    "\n",
    "def predict_class(sentence, model):\n",
    "    bow = bag_of_words(sentence, words)\n",
    "    results = model.predict([bow])[0]\n",
    "    ERROR_THRESHOLD = 0.25\n",
    "    results = [[i, r] for i, r in enumerate(results) if r > ERROR_THRESHOLD]\n",
    "    results.sort(key=lambda x: x[1], reverse=True)\n",
    "    return [{'intent': classes[r[0]], 'probability': str(r[1])} for r in results]\n",
    "\n",
    "def get_response(intents_list, intents_json):\n",
    "    if not intents_list:\n",
    "        return \"Sorry, I didn't understand that.\"\n",
    "    tag = intents_list[0]['intent']\n",
    "    for intent in intents_json['intents']:\n",
    "        if intent['tag'] == tag:\n",
    "            return random.choice(intent['responses'])"
   ]
  }
 ],
 "metadata": {
  "kernelspec": {
   "display_name": "Python 3",
   "language": "python",
   "name": "python3"
  },
  "language_info": {
   "codemirror_mode": {
    "name": "ipython",
    "version": 3
   },
   "file_extension": ".py",
   "mimetype": "text/x-python",
   "name": "python",
   "nbconvert_exporter": "python",
   "pygments_lexer": "ipython3",
   "version": "3.12.2"
  }
 },
 "nbformat": 4,
 "nbformat_minor": 2
}
